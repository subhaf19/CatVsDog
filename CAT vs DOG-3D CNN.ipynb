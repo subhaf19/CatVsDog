{
 "cells": [
  {
   "cell_type": "code",
   "execution_count": 1,
   "metadata": {},
   "outputs": [
    {
     "name": "stderr",
     "output_type": "stream",
     "text": [
      "Using TensorFlow backend.\n"
     ]
    }
   ],
   "source": [
    "from keras.models import Sequential\n",
    "from keras.layers import Conv2D\n",
    "from keras.layers import MaxPooling2D\n",
    "from keras.layers import Flatten\n",
    "from keras.layers import Dense"
   ]
  },
  {
   "cell_type": "code",
   "execution_count": 2,
   "metadata": {},
   "outputs": [],
   "source": [
    "# Initialising the CNN\n",
    "classifier = Sequential()\n",
    "\n",
    "# Step 1 - Convolution\n",
    "classifier.add(Conv2D(32, (3, 3), input_shape = (64, 64, 3), activation = 'relu'))\n",
    "\n",
    "# Step 2 - Pooling\n",
    "classifier.add(MaxPooling2D(pool_size = (2, 2)))\n",
    "\n",
    "# Adding a second convolutional layer\n",
    "classifier.add(Conv2D(32, (3, 3), activation = 'relu'))\n",
    "classifier.add(MaxPooling2D(pool_size = (2, 2)))\n",
    "\n",
    "# Step 3 - Flattening\n",
    "classifier.add(Flatten())\n",
    "\n",
    "# Step 4 - Full connection\n",
    "classifier.add(Dense(units = 128, activation = 'relu'))\n",
    "classifier.add(Dense(units = 1, activation = 'sigmoid'))\n",
    "\n",
    "# Compiling the CNN\n",
    "classifier.compile(optimizer = 'adam', loss = 'binary_crossentropy', metrics = ['accuracy'])"
   ]
  },
  {
   "cell_type": "code",
   "execution_count": 3,
   "metadata": {},
   "outputs": [],
   "source": [
    "# Part 2 - Fitting the CNN to the images\n",
    "from keras.preprocessing.image import ImageDataGenerator\n",
    "\n"
   ]
  },
  {
   "cell_type": "code",
   "execution_count": 4,
   "metadata": {},
   "outputs": [],
   "source": [
    "train_datagen = ImageDataGenerator(rescale = 1./255,\n",
    "                                   shear_range = 0.2,\n",
    "                                   zoom_range = 0.2,\n",
    "                                   horizontal_flip = True)\n"
   ]
  },
  {
   "cell_type": "code",
   "execution_count": 5,
   "metadata": {},
   "outputs": [],
   "source": [
    "\n",
    "test_datagen = ImageDataGenerator(rescale = 1./255)\n",
    "\n"
   ]
  },
  {
   "cell_type": "code",
   "execution_count": 6,
   "metadata": {},
   "outputs": [
    {
     "name": "stdout",
     "output_type": "stream",
     "text": [
      "Found 8000 images belonging to 2 classes.\n"
     ]
    }
   ],
   "source": [
    "training_set = train_datagen.flow_from_directory('dataset/training_set',\n",
    "                                                 target_size = (64, 64),\n",
    "                                                 batch_size = 32,\n",
    "                                                 class_mode = 'binary')\n",
    "\n",
    "\n"
   ]
  },
  {
   "cell_type": "code",
   "execution_count": 7,
   "metadata": {},
   "outputs": [
    {
     "name": "stdout",
     "output_type": "stream",
     "text": [
      "Found 2000 images belonging to 2 classes.\n"
     ]
    }
   ],
   "source": [
    "test_set = test_datagen.flow_from_directory('dataset/test_set',\n",
    "                                            target_size = (64, 64),\n",
    "                                            batch_size = 32,\n",
    "                                            class_mode = 'binary')\n"
   ]
  },
  {
   "cell_type": "code",
   "execution_count": 8,
   "metadata": {},
   "outputs": [
    {
     "name": "stdout",
     "output_type": "stream",
     "text": [
      "Epoch 1/25\n",
      "8000/8000 [==============================] - 6829s 854ms/step - loss: 0.3394 - acc: 0.8398 - val_loss: 0.7157 - val_acc: 0.8025\n",
      "Epoch 2/25\n",
      "8000/8000 [==============================] - 56993s 7s/step - loss: 0.0811 - acc: 0.9702 - val_loss: 1.0220 - val_acc: 0.7896\n",
      "Epoch 3/25\n",
      "8000/8000 [==============================] - 3531s 441ms/step - loss: 0.0433 - acc: 0.9851 - val_loss: 1.2072 - val_acc: 0.7900\n",
      "Epoch 4/25\n",
      "8000/8000 [==============================] - 2967s 371ms/step - loss: 0.0323 - acc: 0.9892 - val_loss: 1.4202 - val_acc: 0.7820\n",
      "Epoch 5/25\n",
      "8000/8000 [==============================] - 3162s 395ms/step - loss: 0.0264 - acc: 0.9915 - val_loss: 1.3733 - val_acc: 0.7926\n",
      "Epoch 6/25\n",
      "8000/8000 [==============================] - 7403s 925ms/step - loss: 0.0229 - acc: 0.9926 - val_loss: 1.5284 - val_acc: 0.7989\n",
      "Epoch 7/25\n",
      "8000/8000 [==============================] - 5520s 690ms/step - loss: 0.0198 - acc: 0.9937 - val_loss: 1.4148 - val_acc: 0.7904\n",
      "Epoch 8/25\n",
      "8000/8000 [==============================] - 3961s 495ms/step - loss: 0.0172 - acc: 0.9945 - val_loss: 1.5912 - val_acc: 0.7885\n",
      "Epoch 9/25\n",
      "8000/8000 [==============================] - 3310s 414ms/step - loss: 0.0152 - acc: 0.9951 - val_loss: 1.5738 - val_acc: 0.7975\n",
      "Epoch 10/25\n",
      "8000/8000 [==============================] - 3219s 402ms/step - loss: 0.0150 - acc: 0.9953 - val_loss: 1.6596 - val_acc: 0.7890\n",
      "Epoch 11/25\n",
      "8000/8000 [==============================] - 3137s 392ms/step - loss: 0.0137 - acc: 0.9958 - val_loss: 1.7572 - val_acc: 0.7947\n",
      "Epoch 12/25\n",
      "8000/8000 [==============================] - 3165s 396ms/step - loss: 0.0133 - acc: 0.9962 - val_loss: 1.8213 - val_acc: 0.7865\n",
      "Epoch 13/25\n",
      "8000/8000 [==============================] - 3157s 395ms/step - loss: 0.0120 - acc: 0.9963 - val_loss: 1.8027 - val_acc: 0.7890\n",
      "Epoch 14/25\n",
      "8000/8000 [==============================] - 2822s 353ms/step - loss: 0.0120 - acc: 0.9963 - val_loss: 1.6825 - val_acc: 0.8095\n",
      "Epoch 15/25\n",
      "8000/8000 [==============================] - 5383s 673ms/step - loss: 0.0109 - acc: 0.9969 - val_loss: 1.7540 - val_acc: 0.7874\n",
      "Epoch 16/25\n",
      "8000/8000 [==============================] - 3007s 376ms/step - loss: 0.0107 - acc: 0.9969 - val_loss: 1.8564 - val_acc: 0.7854\n",
      "Epoch 17/25\n",
      "8000/8000 [==============================] - 5503s 688ms/step - loss: 0.0104 - acc: 0.9970 - val_loss: 1.9260 - val_acc: 0.7806\n",
      "Epoch 18/25\n",
      "8000/8000 [==============================] - 29660s 4s/step - loss: 0.0094 - acc: 0.9973 - val_loss: 2.0011 - val_acc: 0.7852\n",
      "Epoch 19/25\n",
      "8000/8000 [==============================] - 3697s 462ms/step - loss: 0.0086 - acc: 0.9974 - val_loss: 1.8863 - val_acc: 0.7912\n",
      "Epoch 20/25\n",
      "8000/8000 [==============================] - 3339s 417ms/step - loss: 0.0097 - acc: 0.9972 - val_loss: 1.8684 - val_acc: 0.7826\n",
      "Epoch 21/25\n",
      "8000/8000 [==============================] - 14647s 2s/step - loss: 0.0082 - acc: 0.9977 - val_loss: 1.8999 - val_acc: 0.7884\n",
      "Epoch 22/25\n",
      "8000/8000 [==============================] - 3927s 491ms/step - loss: 0.0093 - acc: 0.9974 - val_loss: 1.9800 - val_acc: 0.7785\n",
      "Epoch 23/25\n",
      "8000/8000 [==============================] - 6161s 770ms/step - loss: 0.0086 - acc: 0.9977 - val_loss: 2.0547 - val_acc: 0.7837\n",
      "Epoch 24/25\n",
      "8000/8000 [==============================] - 4079s 510ms/step - loss: 0.0082 - acc: 0.9977 - val_loss: 1.9634 - val_acc: 0.7816\n",
      "Epoch 25/25\n",
      "8000/8000 [==============================] - 10119s 1s/step - loss: 0.0082 - acc: 0.9977 - val_loss: 2.0395 - val_acc: 0.7862\n"
     ]
    },
    {
     "data": {
      "text/plain": [
       "<keras.callbacks.History at 0xbd102de160>"
      ]
     },
     "execution_count": 8,
     "metadata": {},
     "output_type": "execute_result"
    }
   ],
   "source": [
    "classifier.compile(optimizer = 'adam', loss = 'binary_crossentropy', metrics = ['accuracy'])\n",
    "classifier.fit_generator(training_set,\n",
    "                         steps_per_epoch = 8000,\n",
    "                         epochs = 25,\n",
    "                         validation_data = test_set,\n",
    "                         validation_steps = 2000)"
   ]
  },
  {
   "cell_type": "code",
   "execution_count": 15,
   "metadata": {},
   "outputs": [],
   "source": [
    "# Part 3 - Making new predictions\n",
    "import numpy as np\n",
    "from keras.preprocessing import image\n",
    "test_image = image.load_img('C:/Users/DELLPC/dataset/single_prediction/cat_or_dog_2.jpg', target_size = (64, 64))\n",
    "test_image = image.img_to_array(test_image)\n",
    "test_image = np.expand_dims(test_image, axis = 0)\n",
    "result = classifier.predict(test_image)\n",
    "training_set.class_indices\n",
    "if result[0][0] == 1:\n",
    "    prediction = 'dog'\n",
    "else:\n",
    "    prediction = 'cat'"
   ]
  },
  {
   "cell_type": "code",
   "execution_count": 16,
   "metadata": {},
   "outputs": [
    {
     "data": {
      "text/plain": [
       "'cat'"
      ]
     },
     "execution_count": 16,
     "metadata": {},
     "output_type": "execute_result"
    }
   ],
   "source": [
    "prediction"
   ]
  },
  {
   "cell_type": "code",
   "execution_count": null,
   "metadata": {},
   "outputs": [],
   "source": []
  }
 ],
 "metadata": {
  "kernelspec": {
   "display_name": "Python 3",
   "language": "python",
   "name": "python3"
  },
  "language_info": {
   "codemirror_mode": {
    "name": "ipython",
    "version": 3
   },
   "file_extension": ".py",
   "mimetype": "text/x-python",
   "name": "python",
   "nbconvert_exporter": "python",
   "pygments_lexer": "ipython3",
   "version": "3.6.7"
  }
 },
 "nbformat": 4,
 "nbformat_minor": 2
}
